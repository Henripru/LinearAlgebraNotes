{
 "cells": [
  {
   "cell_type": "markdown",
   "metadata": {},
   "source": [
    "# WORKING WITH JULIA"
   ]
  },
  {
   "cell_type": "markdown",
   "metadata": {},
   "source": [
    "# Working from the Cloud: Setting up with Google Colab\n",
    "\n",
    "1. Navigate to \n",
    "    >https://colab.research.google.com\n",
    "\n",
    "2. Create a new ipynb file.\n",
    "\n",
    "3. Run\n",
    "\n",
    "    #@title Install Julia by: (1) executing this cell, which takes around five minutes; and (2) reloading this page.\n",
    "    %%capture\n",
    "    %%shell\n",
    "    set -e\n",
    "\n",
    "    #---------------------------------------------------#\n",
    "    JULIA_VERSION=\"1.4.2\" # any version ≥ 0.7.0\n",
    "    JULIA_PACKAGES=\"IJulia BenchmarkTools Plots\"\n",
    "    JULIA_PACKAGES_IF_GPU=\"CuArrays\"\n",
    "    JULIA_NUM_THREADS=2\n",
    "    #---------------------------------------------------#\n",
    "\n",
    "    if [ -n \"$COLAB_GPU\" ] && [ -z `which julia` ]; then\n",
    "        # Install Julia\n",
    "        JULIA_VER=`cut -d '.' -f -2 <<< \"$JULIA_VERSION\"`\n",
    "        echo \"Installing Julia $JULIA_VERSION on the current Colab Runtime...\"\n",
    "        BASE_URL=\"https://julialang-s3.julialang.org/bin/linux/x64\"\n",
    "        URL=\"$BASE_URL/$JULIA_VER/julia-$JULIA_VERSION-linux-x86_64.tar.gz\"\n",
    "        wget -nv $URL -O /tmp/julia.tar.gz # -nv means \"not verbose\"\n",
    "        tar -x -f /tmp/julia.tar.gz -C /usr/local --strip-components 1\n",
    "        rm /tmp/julia.tar.gz\n",
    "\n",
    "        # Install Packages\n",
    "        if [ \"$COLAB_GPU\" = \"1\" ]; then\n",
    "            JULIA_PACKAGES=\"$JULIA_PACKAGES $JULIA_PACKAGES_IF_GPU\"\n",
    "        fi\n",
    "        for PKG in `echo $JULIA_PACKAGES`; do\n",
    "            echo \"Installing Julia package $PKG...\"\n",
    "            julia -e 'using Pkg; pkg\"add '$PKG'; precompile;\"'\n",
    "        done\n",
    "\n",
    "        # Install kernel and rename it to \"julia\"\n",
    "        echo \"Installing IJulia kernel...\"\n",
    "        julia -e 'using IJulia; IJulia.installkernel(\"julia\", env=Dict(\n",
    "            \"JULIA_NUM_THREADS\"=>\"'\"$JULIA_NUM_THREADS\"'\"))'\n",
    "        KERNEL_DIR=`julia -e \"using IJulia; print(IJulia.kerneldir())\"`\n",
    "        KERNEL_NAME=`ls -d \"$KERNEL_DIR\"/julia*`\n",
    "        mv -f $KERNEL_NAME \"$KERNEL_DIR\"/julia  \n",
    "\n",
    "        echo ''\n",
    "        echo \"Success! Please reload this page and jump to the next section.\"\n",
    "    fi\n",
    "\n",
    "4. Check install by running \n",
    "\n",
    "    versionInfo()"
   ]
  },
  {
   "cell_type": "markdown",
   "metadata": {},
   "source": [
    "# Working Locally: Setting up with Juypter Notebook (MacOS)"
   ]
  },
  {
   "cell_type": "markdown",
   "metadata": {},
   "source": [
    "To set up machine the first time:\n",
    "\n",
    "Run these commands from terminal: \n",
    "\n",
    "Install jupyter:\n",
    ">brew install jupyter\n",
    "    \n",
    "Install julia:\n",
    ">brew install julia\n",
    "\n",
    "To start working on a jupyter notebook anytime after installing, from terminal run:\n",
    ">jupyter notebook"
   ]
  },
  {
   "cell_type": "markdown",
   "metadata": {},
   "source": [
    "# Overview of Julia matrix operations"
   ]
  },
  {
   "cell_type": "markdown",
   "metadata": {},
   "source": [
    "You must manually import the LinearAlgebra module to use linear algebra functions in Julia."
   ]
  },
  {
   "cell_type": "code",
   "execution_count": 86,
   "metadata": {},
   "outputs": [],
   "source": [
    "using LinearAlgebra"
   ]
  },
  {
   "cell_type": "code",
   "execution_count": 87,
   "metadata": {},
   "outputs": [
    {
     "data": {
      "text/plain": [
       "2"
      ]
     },
     "execution_count": 87,
     "metadata": {},
     "output_type": "execute_result"
    }
   ],
   "source": [
    "# To suppress output: end the statement with ';'\n",
    "a = 1;  # suppressed\n",
    "a = 2   # open"
   ]
  },
  {
   "cell_type": "code",
   "execution_count": 88,
   "metadata": {},
   "outputs": [
    {
     "data": {
      "text/plain": [
       "2×2 Array{Int64,2}:\n",
       " 1  4\n",
       " 4  1"
      ]
     },
     "execution_count": 88,
     "metadata": {},
     "output_type": "execute_result"
    }
   ],
   "source": [
    "# To build a matrix\n",
    "MatrixA = [1 4; 4 1]"
   ]
  },
  {
   "cell_type": "code",
   "execution_count": 89,
   "metadata": {},
   "outputs": [
    {
     "data": {
      "text/plain": [
       "2×2 Adjoint{Int64,Array{Int64,2}}:\n",
       " -1  -4\n",
       " -4  -1"
      ]
     },
     "execution_count": 89,
     "metadata": {},
     "output_type": "execute_result"
    }
   ],
   "source": [
    "# Transpose operator '\n",
    "MatrixB = -MatrixA'"
   ]
  },
  {
   "cell_type": "code",
   "execution_count": 90,
   "metadata": {},
   "outputs": [
    {
     "data": {
      "text/plain": [
       "2×2 Array{Int64,2}:\n",
       " -17   -8\n",
       "  -8  -17"
      ]
     },
     "execution_count": 90,
     "metadata": {},
     "output_type": "execute_result"
    }
   ],
   "source": [
    "# Matrix multiplication: \n",
    "MatrixA*MatrixB"
   ]
  },
  {
   "cell_type": "code",
   "execution_count": 91,
   "metadata": {},
   "outputs": [
    {
     "data": {
      "text/plain": [
       "2×2 Array{Int64,2}:\n",
       "  -1  -16\n",
       " -16   -1"
      ]
     },
     "execution_count": 91,
     "metadata": {},
     "output_type": "execute_result"
    }
   ],
   "source": [
    "# Element-wise operations require a preceeding period.\n",
    "# For element-wise multiplication\n",
    "MatrixA.*MatrixB"
   ]
  },
  {
   "cell_type": "code",
   "execution_count": 92,
   "metadata": {},
   "outputs": [
    {
     "data": {
      "text/plain": [
       "Eigen{Float64,Float64,Array{Float64,2},Array{Float64,1}}\n",
       "values:\n",
       "2-element Array{Float64,1}:\n",
       " -3.0\n",
       "  5.0\n",
       "vectors:\n",
       "2×2 Array{Float64,2}:\n",
       " -0.707107  0.707107\n",
       "  0.707107  0.707107"
      ]
     },
     "execution_count": 92,
     "metadata": {},
     "output_type": "execute_result"
    }
   ],
   "source": [
    "# Get eigenvalues and eigenvectors\n",
    "eigen(MatrixA)"
   ]
  },
  {
   "cell_type": "code",
   "execution_count": 93,
   "metadata": {},
   "outputs": [
    {
     "data": {
      "text/plain": [
       "10.0"
      ]
     },
     "execution_count": 93,
     "metadata": {},
     "output_type": "execute_result"
    }
   ],
   "source": [
    "# Compute L1 norm\n",
    "norm(MatrixA, 1)"
   ]
  },
  {
   "cell_type": "code",
   "execution_count": 94,
   "metadata": {},
   "outputs": [
    {
     "data": {
      "text/plain": [
       "5.830951894845301"
      ]
     },
     "execution_count": 94,
     "metadata": {},
     "output_type": "execute_result"
    }
   ],
   "source": [
    "# Compute Frobenius norm\n",
    "norm(MatrixA, 2)"
   ]
  },
  {
   "cell_type": "code",
   "execution_count": 95,
   "metadata": {},
   "outputs": [
    {
     "data": {
      "text/plain": [
       "4.0"
      ]
     },
     "execution_count": 95,
     "metadata": {},
     "output_type": "execute_result"
    }
   ],
   "source": [
    "# Compute L infinity norm\n",
    "norm(MatrixA, Inf)"
   ]
  },
  {
   "cell_type": "code",
   "execution_count": 96,
   "metadata": {},
   "outputs": [
    {
     "data": {
      "text/plain": [
       "SVD{Float64,Float64,Array{Float64,2}}\n",
       "U factor:\n",
       "2×2 Array{Float64,2}:\n",
       " -0.707107  -0.707107\n",
       " -0.707107   0.707107\n",
       "singular values:\n",
       "2-element Array{Float64,1}:\n",
       " 5.0\n",
       " 3.0000000000000004\n",
       "Vt factor:\n",
       "2×2 Array{Float64,2}:\n",
       " -0.707107  -0.707107\n",
       "  0.707107  -0.707107"
      ]
     },
     "execution_count": 96,
     "metadata": {},
     "output_type": "execute_result"
    }
   ],
   "source": [
    "# Compute SVD\n",
    "svd(MatrixA)"
   ]
  }
 ],
 "metadata": {
  "kernelspec": {
   "display_name": "Julia 1.5.2",
   "language": "julia",
   "name": "julia-1.5"
  },
  "language_info": {
   "file_extension": ".jl",
   "mimetype": "application/julia",
   "name": "julia",
   "version": "1.5.2"
  }
 },
 "nbformat": 4,
 "nbformat_minor": 4
}
